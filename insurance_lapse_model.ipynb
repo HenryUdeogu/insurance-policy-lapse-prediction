{
 "cells": [
  {
   "cell_type": "markdown",
   "id": "a23c3d05",
   "metadata": {},
   "source": [
    "# Auto Insurance Policy Lapse Risk Prediction\n",
    "\n",
    "### Author: Henry Udeogu\n",
    "\n",
    "This machine learning project uses real-world, insurance-aligned dataset from the paper\n",
    "`\"Dataset of an actual motor vehicle insurance portfolio\" by Segura-Gisbert et al.` The authors of this paper conducted a research project within a Spanish insurance company and gained access to a sample of their motor vehicle insurance portfolio datasets which they were also authorized to share. This dataset is a collection of **105,555 records**, and the data has been anonymized to protect the policyholders' identities.\n",
    "\n",
    "This dataset includes indispensable date-related information, including the effective date of policies, the birthdates of insured individuals, and renewal dates. It also enriched with valuable economic variables, notably premiums and claim costs. \n",
    "\n",
    "It is important to mention that the availability of open access data concerning insured populations is currently limited. This dataset can be used by insurance companies, researchers and educators and is relevant for marketing purposes; including customer segmentation, contract renewal processes, price renewal strategies, optimization and price sensitivity models, as well as pricing mechanisms for new business.\n",
    "\n",
    "The **primary goal** of this project is to build a classification model that predicts whether a customer is likely to let their auto insurance policy lapse (i.e., churn), so retention campaigns can be better targeted.\n",
    "\n",
    "Impact:\n",
    "- Help reduce Customer Churn\n",
    "- Optimize Marketing Outreach\n",
    "\n",
    "*Data Source: The dataset was collected from a non-life insurance company operating in Spain; therefore, the data has been meticulously anonymized to align with the prevailing European legislation, safeguarding individual privacy and confidentiality. For ease of use, the authors have cleaned the data and provided a clean data file in spreadsheet format and can be accessed via the DOI link below.*\n",
    "https://doi.org/10.17632/5cxyb5fp4f.2"
   ]
  },
  {
   "cell_type": "code",
   "execution_count": 3,
   "id": "1610df1a",
   "metadata": {},
   "outputs": [
    {
     "name": "stderr",
     "output_type": "stream",
     "text": [
      "IProgress not found. Please update jupyter and ipywidgets. See https://ipywidgets.readthedocs.io/en/stable/user_install.html\n"
     ]
    }
   ],
   "source": [
    "import pandas as pd\n",
    "import numpy as np\n",
    "import matplotlib.pyplot as plt\n",
    "import seaborn as sns\n",
    "import shap\n",
    "\n",
    "from sklearn.model_selection import train_test_split\n",
    "from sklearn.preprocessing import StandardScaler\n",
    "from sklearn.ensemble import RandomForestClassifier\n",
    "from sklearn.metrics import classification_report, confusion_matrix, roc_auc_score, roc_curve\n",
    "from imblearn.over_sampling import SMOTE\n",
    "\n",
    "import streamlit as st\n",
    "import joblib\n",
    "\n",
    "import warnings\n",
    "warnings.filterwarnings(\"ignore\")"
   ]
  },
  {
   "cell_type": "markdown",
   "id": "8a27baa3",
   "metadata": {},
   "source": [
    "## Load Dataset & Overview of the Data\n",
    "\n",
    "\n",
    "Key Features:\n",
    "- `id` : Unique identifier for each transaction\n",
    "- `V1-V28` : Anonymized features representing various transaction attributes (e.g., time, location, etc.)\n",
    "- `Amount` : The transaction amount\n",
    "- `Class` : Binary label indicating whether the transaction is fraudulent (1) or not (0)"
   ]
  },
  {
   "cell_type": "code",
   "execution_count": null,
   "id": "8449d851",
   "metadata": {},
   "outputs": [],
   "source": []
  },
  {
   "cell_type": "markdown",
   "id": "a845650b",
   "metadata": {},
   "source": [
    "## Exploratory Data Analysis"
   ]
  },
  {
   "cell_type": "code",
   "execution_count": null,
   "id": "983f0d2b",
   "metadata": {},
   "outputs": [],
   "source": []
  },
  {
   "cell_type": "markdown",
   "id": "c41fe791",
   "metadata": {},
   "source": [
    "## Data Preprocessing"
   ]
  },
  {
   "cell_type": "code",
   "execution_count": null,
   "id": "386edacd",
   "metadata": {},
   "outputs": [],
   "source": []
  },
  {
   "cell_type": "markdown",
   "id": "bb9b3fd1",
   "metadata": {},
   "source": [
    "## Feature Engineering & Feature Selection"
   ]
  },
  {
   "cell_type": "code",
   "execution_count": null,
   "id": "5817fb9a",
   "metadata": {},
   "outputs": [],
   "source": []
  },
  {
   "cell_type": "markdown",
   "id": "e4ae2876",
   "metadata": {},
   "source": [
    "## Model Training & Selection"
   ]
  },
  {
   "cell_type": "code",
   "execution_count": null,
   "id": "f62351c8",
   "metadata": {},
   "outputs": [],
   "source": []
  },
  {
   "cell_type": "markdown",
   "id": "f1c4f4d9",
   "metadata": {},
   "source": [
    "## Hyperparameter Tuning"
   ]
  },
  {
   "cell_type": "code",
   "execution_count": null,
   "id": "0dacc320",
   "metadata": {},
   "outputs": [],
   "source": []
  },
  {
   "cell_type": "markdown",
   "id": "bd51a22f",
   "metadata": {},
   "source": [
    "## Model Evaluation"
   ]
  },
  {
   "cell_type": "code",
   "execution_count": null,
   "id": "b910d0e0",
   "metadata": {},
   "outputs": [],
   "source": []
  },
  {
   "cell_type": "markdown",
   "id": "01935fbd",
   "metadata": {},
   "source": [
    "## SHAP - Explaining the Model"
   ]
  },
  {
   "cell_type": "code",
   "execution_count": null,
   "id": "d97b411b",
   "metadata": {},
   "outputs": [],
   "source": []
  },
  {
   "cell_type": "markdown",
   "id": "8a2cd634",
   "metadata": {},
   "source": [
    "## Results"
   ]
  },
  {
   "cell_type": "code",
   "execution_count": null,
   "id": "e894a853",
   "metadata": {},
   "outputs": [],
   "source": []
  },
  {
   "cell_type": "markdown",
   "id": "058996ef",
   "metadata": {},
   "source": [
    "## Bonus\n",
    "\n",
    "## Streamlit Insurance Lapse App"
   ]
  },
  {
   "cell_type": "code",
   "execution_count": null,
   "id": "54e02e8a",
   "metadata": {},
   "outputs": [],
   "source": []
  }
 ],
 "metadata": {
  "kernelspec": {
   "display_name": "insurance_policy",
   "language": "python",
   "name": "insurance_policy"
  },
  "language_info": {
   "codemirror_mode": {
    "name": "ipython",
    "version": 3
   },
   "file_extension": ".py",
   "mimetype": "text/x-python",
   "name": "python",
   "nbconvert_exporter": "python",
   "pygments_lexer": "ipython3",
   "version": "3.10.9"
  }
 },
 "nbformat": 4,
 "nbformat_minor": 5
}
